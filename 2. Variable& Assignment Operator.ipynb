{
 "cells": [
  {
   "cell_type": "code",
   "execution_count": null,
   "id": "01d20d81",
   "metadata": {},
   "outputs": [],
   "source": [
    "num1=10\n",
    "num2=30\n",
    "add=num1+num2"
   ]
  },
  {
   "cell_type": "code",
   "execution_count": null,
   "id": "f1e2f306",
   "metadata": {},
   "outputs": [],
   "source": [
    "num1=10\n",
    "num2=30\n",
    "add=num1+num2\n",
    "print(\"add\")"
   ]
  },
  {
   "cell_type": "code",
   "execution_count": null,
   "id": "bbb1820b",
   "metadata": {},
   "outputs": [],
   "source": [
    "num1=10\n",
    "num2=30\n",
    "add=num1+num2\n",
    "print(\"add\")\n",
    "print(add)"
   ]
  },
  {
   "cell_type": "code",
   "execution_count": null,
   "id": "8a44cdbb",
   "metadata": {},
   "outputs": [],
   "source": [
    "Num1=40\n",
    "Num2=50\n",
    "Add=Num1+Num2\n",
    "Sub=Num2-Num2"
   ]
  },
  {
   "cell_type": "code",
   "execution_count": null,
   "id": "ef863df5",
   "metadata": {},
   "outputs": [],
   "source": [
    "First name=\"joshika\""
   ]
  },
  {
   "cell_type": "code",
   "execution_count": null,
   "id": "0ed9584e",
   "metadata": {},
   "outputs": [],
   "source": [
    "FirstName=\"Hello\"\n",
    "firstName=\"HI\""
   ]
  },
  {
   "cell_type": "code",
   "execution_count": null,
   "id": "27fb3f0a",
   "metadata": {},
   "outputs": [],
   "source": [
    "4first=30"
   ]
  },
  {
   "cell_type": "code",
   "execution_count": null,
   "id": "0319235f",
   "metadata": {},
   "outputs": [],
   "source": [
    "f2irst=30"
   ]
  },
  {
   "cell_type": "code",
   "execution_count": null,
   "id": "ca5541e3",
   "metadata": {
    "scrolled": true
   },
   "outputs": [],
   "source": [
    "print(\"The addition of two numbers\")\n",
    "num=10\n",
    "print(\"The number1:\",num1)\n",
    "num2=20\n",
    "print(\"The number2:\",num2)\n",
    "add=num1+num2\n",
    "print(\"The Answer:\",num1+num2)\n",
    "print(\"The Answer:\",add)"
   ]
  },
  {
   "cell_type": "code",
   "execution_count": 1,
   "id": "152c9b58",
   "metadata": {},
   "outputs": [
    {
     "ename": "SyntaxError",
     "evalue": "invalid syntax (1604449281.py, line 1)",
     "output_type": "error",
     "traceback": [
      "\u001b[1;36m  Cell \u001b[1;32mIn[1], line 1\u001b[1;36m\u001b[0m\n\u001b[1;33m    num1=int(input(\"Enter the num1\":))\u001b[0m\n\u001b[1;37m                                   ^\u001b[0m\n\u001b[1;31mSyntaxError\u001b[0m\u001b[1;31m:\u001b[0m invalid syntax\n"
     ]
    }
   ],
   "source": [
    "num1=int(input(\"Enter the num1\":))\n",
    "\n"
   ]
  },
  {
   "cell_type": "code",
   "execution_count": null,
   "id": "010eae29",
   "metadata": {},
   "outputs": [],
   "source": [
    "num2=int(input(\"Enter the num2:\"))"
   ]
  },
  {
   "cell_type": "code",
   "execution_count": null,
   "id": "c35210a6",
   "metadata": {},
   "outputs": [],
   "source": [
    "add=num1+num2"
   ]
  },
  {
   "cell_type": "code",
   "execution_count": null,
   "id": "262199ff",
   "metadata": {},
   "outputs": [],
   "source": [
    "print(add)\n"
   ]
  },
  {
   "cell_type": "code",
   "execution_count": null,
   "id": "184a8c88",
   "metadata": {},
   "outputs": [],
   "source": []
  }
 ],
 "metadata": {
  "kernelspec": {
   "display_name": "Python 3 (ipykernel)",
   "language": "python",
   "name": "python3"
  },
  "language_info": {
   "codemirror_mode": {
    "name": "ipython",
    "version": 3
   },
   "file_extension": ".py",
   "mimetype": "text/x-python",
   "name": "python",
   "nbconvert_exporter": "python",
   "pygments_lexer": "ipython3",
   "version": "3.11.5"
  }
 },
 "nbformat": 4,
 "nbformat_minor": 5
}
